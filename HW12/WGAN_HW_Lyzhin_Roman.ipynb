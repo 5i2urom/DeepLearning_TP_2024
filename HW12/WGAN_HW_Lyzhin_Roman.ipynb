{
  "cells": [
    {
      "cell_type": "markdown",
      "source": [
        "ФИО: Лыжин Роман"
      ],
      "metadata": {
        "id": "ACcAhAT-YDxv"
      }
    },
    {
      "cell_type": "markdown",
      "metadata": {
        "id": "BwBxTmh3Am9J"
      },
      "source": [
        "### Задание\n",
        "\n",
        "1) Модифицируйте код и реализуйте [Wasserstein GAN](https://arxiv.org/abs/1701.07875) ([From GAN to WGAN\n",
        "](https://lilianweng.github.io/posts/2017-08-20-gan/)) используя weight clipping. (1 балл)\n",
        "\n",
        "2) Замените  weight clipping на [gradient penalty](https://arxiv.org/pdf/1704.00028v3.pdf). (1 балл)\n",
        "\n",
        "3) Добавьте к обучению WGAN условие на метку, продемонстрируйте [условную генерацию](https://arxiv.org/pdf/1411.1784.pdf).  (1 балл)\n",
        "\n",
        "Напишите отчет о том, что попробовали, какие результаты получили, какую архитектуру использовали, как вам кажется надо обучать GAN, чтобы добиться сходимости? Каждый пункт обязательно сопроводите визуализациями."
      ]
    },
    {
      "cell_type": "code",
      "execution_count": null,
      "metadata": {
        "id": "jvhaRP7tAm9E"
      },
      "outputs": [],
      "source": [
        "import torch\n",
        "import torch.nn as nn\n",
        "import torch.nn.functional as F\n",
        "import torch.optim as optim\n",
        "from torch.utils.data import DataLoader, Dataset\n",
        "\n",
        "import torchvision\n",
        "import matplotlib.pyplot as plt\n",
        "import numpy as np\n",
        "\n",
        "from torch.autograd import Variable"
      ]
    },
    {
      "cell_type": "markdown",
      "source": [],
      "metadata": {
        "id": "-ewF-U7WYCV2"
      }
    },
    {
      "cell_type": "code",
      "execution_count": null,
      "metadata": {
        "id": "O1jx4dNAAm9G"
      },
      "outputs": [],
      "source": [
        "class Config:\n",
        "    pass\n",
        "\n",
        "config = Config()\n",
        "config.batch_size = 64\n",
        "config.num_workers = 2\n",
        "config.num_epochs = 2\n",
        "config.noise_size = 100\n",
        "config.n_critic = 5\n",
        "config.clip_value = 0.01\n",
        "config.lambda_gp = 10\n",
        "config.print_freq = 100\n",
        "config.lr = 0.00005\n",
        "config.num_classes = 10\n",
        "config.embed_size = 10"
      ]
    },
    {
      "cell_type": "code",
      "execution_count": null,
      "metadata": {
        "id": "qub7m0RoAm9H",
        "colab": {
          "base_uri": "https://localhost:8080/"
        },
        "outputId": "8da81205-d880-4c62-edee-9bae4fb43ff9"
      },
      "outputs": [
        {
          "output_type": "stream",
          "name": "stdout",
          "text": [
            "Downloading http://fashion-mnist.s3-website.eu-central-1.amazonaws.com/train-images-idx3-ubyte.gz\n",
            "Downloading http://fashion-mnist.s3-website.eu-central-1.amazonaws.com/train-images-idx3-ubyte.gz to fashion_mnist/FashionMNIST/raw/train-images-idx3-ubyte.gz\n"
          ]
        },
        {
          "output_type": "stream",
          "name": "stderr",
          "text": [
            "100%|██████████| 26.4M/26.4M [00:02<00:00, 11.0MB/s]\n"
          ]
        },
        {
          "output_type": "stream",
          "name": "stdout",
          "text": [
            "Extracting fashion_mnist/FashionMNIST/raw/train-images-idx3-ubyte.gz to fashion_mnist/FashionMNIST/raw\n",
            "\n",
            "Downloading http://fashion-mnist.s3-website.eu-central-1.amazonaws.com/train-labels-idx1-ubyte.gz\n",
            "Downloading http://fashion-mnist.s3-website.eu-central-1.amazonaws.com/train-labels-idx1-ubyte.gz to fashion_mnist/FashionMNIST/raw/train-labels-idx1-ubyte.gz\n"
          ]
        },
        {
          "output_type": "stream",
          "name": "stderr",
          "text": [
            "100%|██████████| 29.5k/29.5k [00:00<00:00, 168kB/s]\n"
          ]
        },
        {
          "output_type": "stream",
          "name": "stdout",
          "text": [
            "Extracting fashion_mnist/FashionMNIST/raw/train-labels-idx1-ubyte.gz to fashion_mnist/FashionMNIST/raw\n",
            "\n",
            "Downloading http://fashion-mnist.s3-website.eu-central-1.amazonaws.com/t10k-images-idx3-ubyte.gz\n",
            "Downloading http://fashion-mnist.s3-website.eu-central-1.amazonaws.com/t10k-images-idx3-ubyte.gz to fashion_mnist/FashionMNIST/raw/t10k-images-idx3-ubyte.gz\n"
          ]
        },
        {
          "output_type": "stream",
          "name": "stderr",
          "text": [
            "100%|██████████| 4.42M/4.42M [00:01<00:00, 2.99MB/s]\n"
          ]
        },
        {
          "output_type": "stream",
          "name": "stdout",
          "text": [
            "Extracting fashion_mnist/FashionMNIST/raw/t10k-images-idx3-ubyte.gz to fashion_mnist/FashionMNIST/raw\n",
            "\n",
            "Downloading http://fashion-mnist.s3-website.eu-central-1.amazonaws.com/t10k-labels-idx1-ubyte.gz\n",
            "Downloading http://fashion-mnist.s3-website.eu-central-1.amazonaws.com/t10k-labels-idx1-ubyte.gz to fashion_mnist/FashionMNIST/raw/t10k-labels-idx1-ubyte.gz\n"
          ]
        },
        {
          "output_type": "stream",
          "name": "stderr",
          "text": [
            "100%|██████████| 5.15k/5.15k [00:00<00:00, 4.97MB/s]"
          ]
        },
        {
          "output_type": "stream",
          "name": "stdout",
          "text": [
            "Extracting fashion_mnist/FashionMNIST/raw/t10k-labels-idx1-ubyte.gz to fashion_mnist/FashionMNIST/raw\n",
            "\n"
          ]
        },
        {
          "output_type": "stream",
          "name": "stderr",
          "text": [
            "\n"
          ]
        }
      ],
      "source": [
        "train = torchvision.datasets.FashionMNIST(\"fashion_mnist\", train=True, transform=torchvision.transforms.ToTensor(), download=True)"
      ]
    },
    {
      "cell_type": "code",
      "execution_count": null,
      "metadata": {
        "id": "voM1DxvEAm9H"
      },
      "outputs": [],
      "source": [
        "dataloader = DataLoader(train, batch_size=config.batch_size, shuffle=True, num_workers=config.num_workers)"
      ]
    },
    {
      "cell_type": "code",
      "execution_count": null,
      "metadata": {
        "id": "yJcwiRMDAm9H",
        "colab": {
          "base_uri": "https://localhost:8080/"
        },
        "outputId": "a0495e14-3558-4659-8901-c38627591282"
      },
      "outputs": [
        {
          "output_type": "execute_result",
          "data": {
            "text/plain": [
              "938"
            ]
          },
          "metadata": {},
          "execution_count": 5
        }
      ],
      "source": [
        "len(dataloader)"
      ]
    },
    {
      "cell_type": "code",
      "execution_count": null,
      "metadata": {
        "id": "7vv5ieReAm9H"
      },
      "outputs": [],
      "source": [
        "for image, cat in dataloader:\n",
        "    break"
      ]
    },
    {
      "cell_type": "code",
      "execution_count": null,
      "metadata": {
        "scrolled": true,
        "id": "6p6GmSXjAm9H",
        "colab": {
          "base_uri": "https://localhost:8080/"
        },
        "outputId": "f8a78083-e991-48a1-8aa8-b7ba91ae9f9d"
      },
      "outputs": [
        {
          "output_type": "execute_result",
          "data": {
            "text/plain": [
              "torch.Size([64, 1, 28, 28])"
            ]
          },
          "metadata": {},
          "execution_count": 7
        }
      ],
      "source": [
        "image.size()"
      ]
    },
    {
      "cell_type": "code",
      "execution_count": null,
      "metadata": {
        "id": "ni1QqWbLAm9I",
        "colab": {
          "base_uri": "https://localhost:8080/"
        },
        "outputId": "c0231684-9466-4c02-a898-78ee87fa8fe7"
      },
      "outputs": [
        {
          "output_type": "execute_result",
          "data": {
            "text/plain": [
              "784"
            ]
          },
          "metadata": {},
          "execution_count": 8
        }
      ],
      "source": [
        "28*28"
      ]
    },
    {
      "cell_type": "code",
      "source": [
        "device = torch.device(\"cuda\" if torch.cuda.is_available() else \"cpu\")"
      ],
      "metadata": {
        "id": "8FpPe_jAPfVN"
      },
      "execution_count": null,
      "outputs": []
    },
    {
      "cell_type": "markdown",
      "source": [
        "## WGAN с weight clipping"
      ],
      "metadata": {
        "id": "vBMrzMTpPrQH"
      }
    },
    {
      "cell_type": "code",
      "execution_count": null,
      "metadata": {
        "id": "Dsd-Z6vhAm9I"
      },
      "outputs": [],
      "source": [
        "class Generator(nn.Module):\n",
        "    def __init__(self, noise_dim=100, out_dim=784):\n",
        "        super(Generator, self).__init__()\n",
        "        self.model = nn.Sequential(\n",
        "            nn.Linear(noise_dim, 256),\n",
        "            nn.ReLU(True),\n",
        "            nn.Linear(256, 512),\n",
        "            nn.ReLU(True),\n",
        "            nn.Linear(512, 1024),\n",
        "            nn.ReLU(True),\n",
        "            nn.Linear(1024, out_dim),\n",
        "            nn.Tanh()\n",
        "        )\n",
        "    def forward(self, x):\n",
        "        return self.model(x)\n",
        "\n",
        "class Critic(nn.Module):\n",
        "    def __init__(self, in_dim=784):\n",
        "        super(Critic, self).__init__()\n",
        "        self.model = nn.Sequential(\n",
        "            nn.Linear(in_dim, 512),\n",
        "            nn.LeakyReLU(0.2, inplace=True),\n",
        "            nn.Linear(512, 256),\n",
        "            nn.LeakyReLU(0.2, inplace=True),\n",
        "            nn.Linear(256, 1)\n",
        "        )\n",
        "    def forward(self, x):\n",
        "        return self.model(x)"
      ]
    },
    {
      "cell_type": "code",
      "execution_count": null,
      "metadata": {
        "id": "0GuZPb4xAm9I"
      },
      "outputs": [],
      "source": [
        "generator = Generator(config.noise_size).to(device)\n",
        "critic = Critic().to(device)"
      ]
    },
    {
      "cell_type": "code",
      "execution_count": null,
      "metadata": {
        "id": "fhqKtwNZAm9I"
      },
      "outputs": [],
      "source": [
        "optim_G = optim.RMSprop(generator.parameters(), lr=config.lr)\n",
        "optim_D = optim.RMSprop(critic.parameters(), lr=config.lr)"
      ]
    },
    {
      "cell_type": "code",
      "execution_count": null,
      "metadata": {
        "id": "5PS0wrehAm9J"
      },
      "outputs": [],
      "source": [
        "fixed_noise = torch.randn(config.batch_size, config.noise_size).to(device)"
      ]
    },
    {
      "cell_type": "code",
      "execution_count": null,
      "metadata": {
        "scrolled": true,
        "id": "w9jF0MABAm9J",
        "colab": {
          "base_uri": "https://localhost:8080/"
        },
        "outputId": "5e076957-ce14-41d5-a6ce-ed719c307774"
      },
      "outputs": [
        {
          "output_type": "stream",
          "name": "stdout",
          "text": [
            "Epoch:1 Iter:100 D-loss:0.5101 G-loss:-0.7645\n",
            "Epoch:1 Iter:200 D-loss:0.3688 G-loss:-1.6250\n",
            "Epoch:1 Iter:300 D-loss:-0.1594 G-loss:0.0873\n",
            "Epoch:1 Iter:400 D-loss:-1.1420 G-loss:1.0993\n",
            "Epoch:1 Iter:500 D-loss:-0.5515 G-loss:-0.4131\n",
            "Epoch:1 Iter:600 D-loss:-0.7649 G-loss:-0.2684\n",
            "Epoch:1 Iter:700 D-loss:0.2027 G-loss:-3.2596\n",
            "Epoch:1 Iter:800 D-loss:-0.4546 G-loss:-0.0987\n",
            "Epoch:1 Iter:900 D-loss:-0.7195 G-loss:-1.9584\n",
            "Epoch:2 Iter:100 D-loss:-0.5473 G-loss:0.5091\n",
            "Epoch:2 Iter:200 D-loss:-1.1570 G-loss:-0.6641\n",
            "Epoch:2 Iter:300 D-loss:-0.1289 G-loss:-1.0991\n",
            "Epoch:2 Iter:400 D-loss:-0.7249 G-loss:2.8993\n",
            "Epoch:2 Iter:500 D-loss:-0.1997 G-loss:-0.5956\n",
            "Epoch:2 Iter:600 D-loss:-0.6149 G-loss:-0.9447\n",
            "Epoch:2 Iter:700 D-loss:-0.7782 G-loss:-0.3971\n",
            "Epoch:2 Iter:800 D-loss:-0.3397 G-loss:-0.3683\n",
            "Epoch:2 Iter:900 D-loss:-0.4364 G-loss:0.2538\n"
          ]
        }
      ],
      "source": [
        "ERRD = np.zeros(config.num_epochs)\n",
        "ERRG = np.zeros(config.num_epochs)\n",
        "N = len(dataloader)\n",
        "\n",
        "for epoch in range(config.num_epochs):\n",
        "    i = 0\n",
        "    data_iter = iter(dataloader)\n",
        "    for images, _ in dataloader:\n",
        "        i += 1\n",
        "        images = images.to(device)\n",
        "        images = images.view(images.size(0), -1)\n",
        "        for p in critic.parameters():\n",
        "            p.requires_grad = True\n",
        "        for _ in range(config.n_critic):\n",
        "            try:\n",
        "                data = next(data_iter)\n",
        "            except:\n",
        "                data_iter = iter(dataloader)\n",
        "                data = next(data_iter)\n",
        "            real_data = data[0].to(device).view(data[0].size(0), -1)\n",
        "            noise = torch.randn(real_data.size(0), config.noise_size).to(device)\n",
        "            fake_data = generator(noise)\n",
        "            optim_D.zero_grad()\n",
        "            critic_real = critic(real_data)\n",
        "            critic_fake = critic(fake_data.detach())\n",
        "            d_loss = -(torch.mean(critic_real) - torch.mean(critic_fake))\n",
        "            d_loss.backward()\n",
        "            optim_D.step()\n",
        "            for p in critic.parameters():\n",
        "                p.data.clamp_(-config.clip_value, config.clip_value)\n",
        "        for p in critic.parameters():\n",
        "            p.requires_grad = False\n",
        "        noise = torch.randn(images.size(0), config.noise_size).to(device)\n",
        "        fake_data = generator(noise)\n",
        "        optim_G.zero_grad()\n",
        "        critic_fake = critic(fake_data)\n",
        "        g_loss = -torch.mean(critic_fake)\n",
        "        g_loss.backward()\n",
        "        optim_G.step()\n",
        "        ERRD[epoch] += d_loss.item()\n",
        "        ERRG[epoch] += g_loss.item()\n",
        "        if i % config.print_freq == 0:\n",
        "            print('Epoch:{} Iter:{} D-loss:{:.4f} G-loss:{:.4f}'.format(epoch+1, i, d_loss.item(), g_loss.item()))"
      ]
    },
    {
      "cell_type": "code",
      "execution_count": null,
      "metadata": {
        "id": "MizcsX_xAm9K",
        "colab": {
          "base_uri": "https://localhost:8080/",
          "height": 579
        },
        "outputId": "418b1d9e-6e41-46e5-c24b-b1c36925cc93"
      },
      "outputs": [
        {
          "output_type": "display_data",
          "data": {
            "text/plain": [
              "<Figure size 600x700 with 16 Axes>"
            ],
            "image/png": "[encoded data removed]"
          },
          "metadata": {}
        }
      ],
      "source": [
        "noise = fixed_noise\n",
        "fake = generator(noise).detach().cpu().numpy()\n",
        "plt.figure(figsize=(6,7))\n",
        "for i in range(16):\n",
        "    plt.subplot(4,4,i+1)\n",
        "    plt.imshow((fake[i].reshape(28,28)+1)/2, cmap='gray')\n",
        "    plt.axis('off')\n",
        "plt.show()"
      ]
    },
    {
      "cell_type": "markdown",
      "source": [
        "##WGAN-GP"
      ],
      "metadata": {
        "id": "6-2A7bhxR-4N"
      }
    },
    {
      "cell_type": "code",
      "source": [
        "from torch.autograd import grad\n",
        "\n",
        "def gradient_penalty(critic, real_data, fake_data):\n",
        "    alpha = torch.rand(real_data.size(0), 1).to(real_data.device)\n",
        "    alpha = alpha.expand(real_data.size())\n",
        "    interpolates = alpha * real_data + ((1 - alpha) * fake_data)\n",
        "    interpolates.requires_grad_(True)\n",
        "    disc_interpolates = critic(interpolates)\n",
        "    grad_outputs = torch.ones(disc_interpolates.size()).to(real_data.device)\n",
        "    gradients = grad(outputs=disc_interpolates, inputs=interpolates,\n",
        "                     grad_outputs=grad_outputs, create_graph=True, retain_graph=True, only_inputs=True)[0]\n",
        "    gradients = gradients.view(gradients.size(0), -1)\n",
        "    gradient_pen = ((gradients.norm(2, dim=1) - 1) ** 2).mean() * config.lambda_gp\n",
        "    return gradient_pen"
      ],
      "metadata": {
        "id": "yb8m3dU3R9lG"
      },
      "execution_count": null,
      "outputs": []
    },
    {
      "cell_type": "code",
      "source": [
        "optim_G = optim.Adam(generator.parameters(), lr=config.lr, betas=(0.5,0.9))\n",
        "optim_D = optim.Adam(critic.parameters(), lr=config.lr, betas=(0.5,0.9))"
      ],
      "metadata": {
        "id": "Y2CXem4HuTWc"
      },
      "execution_count": null,
      "outputs": []
    },
    {
      "cell_type": "code",
      "source": [
        "ERRD = np.zeros(config.num_epochs)\n",
        "ERRG = np.zeros(config.num_epochs)\n",
        "N = len(dataloader)\n",
        "\n",
        "for epoch in range(config.num_epochs):\n",
        "    i = 0\n",
        "    data_iter = iter(dataloader)\n",
        "    for images, _ in dataloader:\n",
        "        i += 1\n",
        "        images = images.to(device)\n",
        "        images = images.view(images.size(0), -1)\n",
        "        for p in critic.parameters():\n",
        "            p.requires_grad = True\n",
        "        for _ in range(config.n_critic):\n",
        "            try:\n",
        "                data = next(data_iter)\n",
        "            except:\n",
        "                data_iter = iter(dataloader)\n",
        "                data = next(data_iter)\n",
        "            real_data = data[0].to(device).view(data[0].size(0), -1)\n",
        "            noise = torch.randn(real_data.size(0), config.noise_size).to(device)\n",
        "            fake_data = generator(noise)\n",
        "            optim_D.zero_grad()\n",
        "            critic_real = critic(real_data)\n",
        "            critic_fake = critic(fake_data.detach())\n",
        "            gp = gradient_penalty(critic, real_data, fake_data)\n",
        "            d_loss = -(torch.mean(critic_real) - torch.mean(critic_fake)) + gp\n",
        "            d_loss.backward()\n",
        "            optim_D.step()\n",
        "        for p in critic.parameters():\n",
        "            p.requires_grad = False\n",
        "        noise = torch.randn(images.size(0), config.noise_size).to(device)\n",
        "        fake_data = generator(noise)\n",
        "        optim_G.zero_grad()\n",
        "        critic_fake = critic(fake_data)\n",
        "        g_loss = -torch.mean(critic_fake)\n",
        "        g_loss.backward()\n",
        "        optim_G.step()\n",
        "        ERRD[epoch] += d_loss.item()\n",
        "        ERRG[epoch] += g_loss.item()\n",
        "        if i % config.print_freq == 0:\n",
        "            print('Epoch:{} Iter:{} D-loss:{:.4f} G-loss:{:.4f}'.format(epoch+1, i, d_loss.item(), g_loss.item()))\n"
      ],
      "metadata": {
        "colab": {
          "base_uri": "https://localhost:8080/"
        },
        "id": "Q-aOK1vGSHRv",
        "outputId": "918c1190-0f0a-4701-8a8c-8a2d84db3712"
      },
      "execution_count": null,
      "outputs": [
        {
          "output_type": "stream",
          "name": "stdout",
          "text": [
            "Epoch:1 Iter:100 D-loss:-2.0246 G-loss:-0.3738\n",
            "Epoch:1 Iter:200 D-loss:-1.1514 G-loss:0.8863\n",
            "Epoch:1 Iter:300 D-loss:-2.1597 G-loss:0.0493\n",
            "Epoch:1 Iter:400 D-loss:-3.0975 G-loss:-1.1300\n",
            "Epoch:1 Iter:500 D-loss:-2.0076 G-loss:-0.9127\n",
            "Epoch:1 Iter:600 D-loss:-2.0316 G-loss:-0.0677\n",
            "Epoch:1 Iter:700 D-loss:-2.1106 G-loss:-0.9734\n",
            "Epoch:1 Iter:800 D-loss:-1.7647 G-loss:-1.2991\n",
            "Epoch:1 Iter:900 D-loss:-1.6026 G-loss:-1.2113\n",
            "Epoch:2 Iter:100 D-loss:-1.9338 G-loss:1.3699\n",
            "Epoch:2 Iter:200 D-loss:-2.2374 G-loss:0.7660\n",
            "Epoch:2 Iter:300 D-loss:-2.0776 G-loss:1.1052\n",
            "Epoch:2 Iter:400 D-loss:-2.2164 G-loss:0.1837\n",
            "Epoch:2 Iter:500 D-loss:-2.2611 G-loss:1.4281\n",
            "Epoch:2 Iter:600 D-loss:-2.1601 G-loss:1.4253\n",
            "Epoch:2 Iter:700 D-loss:-2.2020 G-loss:0.7759\n",
            "Epoch:2 Iter:800 D-loss:-2.3689 G-loss:-0.0873\n",
            "Epoch:2 Iter:900 D-loss:-1.9701 G-loss:1.1312\n"
          ]
        }
      ]
    },
    {
      "cell_type": "code",
      "source": [
        "noise = fixed_noise\n",
        "fake = generator(noise).detach().cpu().numpy()\n",
        "plt.figure(figsize=(6,7))\n",
        "for i in range(16):\n",
        "    plt.subplot(4,4,i+1)\n",
        "    plt.imshow((fake[i].reshape(28,28)+1)/2, cmap='gray')\n",
        "    plt.axis('off')\n",
        "plt.show()"
      ],
      "metadata": {
        "colab": {
          "base_uri": "https://localhost:8080/",
          "height": 579
        },
        "id": "YTTFRW_ISTc4",
        "outputId": "d630c2e3-9500-40a8-ed96-b6cbca8b38a9"
      },
      "execution_count": null,
      "outputs": [
        {
          "output_type": "display_data",
          "data": {
            "text/plain": [
              "<Figure size 600x700 with 16 Axes>"
            ],
            "image/png": "[encoded data removed]"
          },
          "metadata": {}
        }
      ]
    },
    {
      "cell_type": "markdown",
      "source": [
        "## Условный WGAN-GP"
      ],
      "metadata": {
        "id": "K5q4qzi2SWkK"
      }
    },
    {
      "cell_type": "code",
      "source": [
        "class ConditionalGenerator(nn.Module):\n",
        "    def __init__(self, noise_dim=100, embed_dim=10, out_dim=784, num_classes=10):\n",
        "        super(ConditionalGenerator, self).__init__()\n",
        "        self.embed = nn.Embedding(num_classes, embed_dim)\n",
        "        self.model = nn.Sequential(\n",
        "            nn.Linear(noise_dim+embed_dim, 256),\n",
        "            nn.ReLU(True),\n",
        "            nn.Linear(256, 512),\n",
        "            nn.ReLU(True),\n",
        "            nn.Linear(512, 1024),\n",
        "            nn.ReLU(True),\n",
        "            nn.Linear(1024, out_dim),\n",
        "            nn.Tanh()\n",
        "        )\n",
        "    def forward(self, noise, labels):\n",
        "        e = self.embed(labels)\n",
        "        x = torch.cat([noise, e], dim=1)\n",
        "        return self.model(x)\n",
        "\n",
        "class ConditionalCritic(nn.Module):\n",
        "    def __init__(self, in_dim=784, embed_dim=10, num_classes=10):\n",
        "        super(ConditionalCritic, self).__init__()\n",
        "        self.embed = nn.Embedding(num_classes, embed_dim)\n",
        "        self.model = nn.Sequential(\n",
        "            nn.Linear(in_dim+embed_dim, 512),\n",
        "            nn.LeakyReLU(0.2, inplace=True),\n",
        "            nn.Linear(512, 256),\n",
        "            nn.LeakyReLU(0.2, inplace=True),\n",
        "            nn.Linear(256, 1)\n",
        "        )\n",
        "    def forward(self, x, labels):\n",
        "        e = self.embed(labels)\n",
        "        y = torch.cat([x, e], dim=1)\n",
        "        return self.model(y)"
      ],
      "metadata": {
        "id": "Gv4tGjlaSXR7"
      },
      "execution_count": null,
      "outputs": []
    },
    {
      "cell_type": "code",
      "source": [
        "def gradient_penalty(critic, real_data, fake_data, labels):\n",
        "    alpha = torch.rand(real_data.size(0), 1).to(real_data.device)\n",
        "    alpha = alpha.expand(real_data.size())\n",
        "    interpolates = alpha * real_data + ((1 - alpha) * fake_data)\n",
        "    interpolates.requires_grad_(True)\n",
        "    disc_interpolates = critic(interpolates, labels)\n",
        "    grad_outputs = torch.ones(disc_interpolates.size()).to(real_data.device)\n",
        "    gradients = grad(outputs=disc_interpolates, inputs=interpolates,\n",
        "                     grad_outputs=grad_outputs, create_graph=True, retain_graph=True, only_inputs=True)[0]\n",
        "    gradients = gradients.view(gradients.size(0), -1)\n",
        "    gradient_pen = ((gradients.norm(2, dim=1) - 1) ** 2).mean() * config.lambda_gp\n",
        "    return gradient_pen"
      ],
      "metadata": {
        "id": "LzeH996CSjjm"
      },
      "execution_count": null,
      "outputs": []
    },
    {
      "cell_type": "code",
      "source": [
        "generator = ConditionalGenerator(config.noise_size, config.embed_size).to(device)\n",
        "critic = ConditionalCritic().to(device)"
      ],
      "metadata": {
        "id": "PCDmmIVhSmqF"
      },
      "execution_count": null,
      "outputs": []
    },
    {
      "cell_type": "code",
      "source": [
        "optim_G = optim.Adam(generator.parameters(), lr=config.lr, betas=(0.5,0.9))\n",
        "optim_D = optim.Adam(critic.parameters(), lr=config.lr, betas=(0.5,0.9))"
      ],
      "metadata": {
        "id": "ToNjY_hVSny8"
      },
      "execution_count": null,
      "outputs": []
    },
    {
      "cell_type": "code",
      "source": [
        "fixed_labels = torch.randint(0, config.num_classes, (config.batch_size,)).to(device)"
      ],
      "metadata": {
        "id": "gW4OKjoXSpt3"
      },
      "execution_count": null,
      "outputs": []
    },
    {
      "cell_type": "code",
      "source": [
        "ERRD = np.zeros(config.num_epochs)\n",
        "ERRG = np.zeros(config.num_epochs)\n",
        "N = len(dataloader)\n",
        "\n",
        "for epoch in range(config.num_epochs):\n",
        "    i = 0\n",
        "    data_iter = iter(dataloader)\n",
        "    for images, labs in dataloader:\n",
        "        i += 1\n",
        "        images = images.to(device)\n",
        "        labs = labs.to(device)\n",
        "        images = images.view(images.size(0), -1)\n",
        "        for p in critic.parameters():\n",
        "            p.requires_grad = True\n",
        "        for _ in range(config.n_critic):\n",
        "            try:\n",
        "                data = next(data_iter)\n",
        "            except:\n",
        "                data_iter = iter(dataloader)\n",
        "                data = next(data_iter)\n",
        "            real_data = data[0].to(device).view(data[0].size(0), -1)\n",
        "            real_labels = data[1].to(device)\n",
        "            noise = torch.randn(real_data.size(0), config.noise_size).to(device)\n",
        "            fake_labels = torch.randint(0, config.num_classes, (real_data.size(0),)).to(device)\n",
        "            fake_data = generator(noise, fake_labels)\n",
        "            optim_D.zero_grad()\n",
        "            critic_real = critic(real_data, real_labels)\n",
        "            critic_fake = critic(fake_data.detach(), fake_labels)\n",
        "            gp = gradient_penalty(critic, real_data, fake_data, real_labels)\n",
        "            d_loss = -(torch.mean(critic_real) - torch.mean(critic_fake)) + gp\n",
        "            d_loss.backward()\n",
        "            optim_D.step()\n",
        "        for p in critic.parameters():\n",
        "            p.requires_grad = False\n",
        "        noise = torch.randn(images.size(0), config.noise_size).to(device)\n",
        "        fake_labels = torch.randint(0, config.num_classes, (images.size(0),)).to(device)\n",
        "        fake_data = generator(noise, fake_labels)\n",
        "        optim_G.zero_grad()\n",
        "        critic_fake = critic(fake_data, fake_labels)\n",
        "        g_loss = -torch.mean(critic_fake)\n",
        "        g_loss.backward()\n",
        "        optim_G.step()\n",
        "        ERRD[epoch] += d_loss.item()\n",
        "        ERRG[epoch] += g_loss.item()\n",
        "        if i % config.print_freq == 0:\n",
        "            print('Epoch:{} Iter:{} D-loss:{:.4f} G-loss:{:.4f}'.format(epoch+1, i, d_loss.item(), g_loss.item()))"
      ],
      "metadata": {
        "colab": {
          "base_uri": "https://localhost:8080/"
        },
        "id": "YoqlStfnSshT",
        "outputId": "b0ce5202-0acd-45af-bdd2-56abeb494fde"
      },
      "execution_count": null,
      "outputs": [
        {
          "output_type": "stream",
          "name": "stdout",
          "text": [
            "Epoch:1 Iter:100 D-loss:-2.1328 G-loss:0.3201\n",
            "Epoch:1 Iter:200 D-loss:-4.5735 G-loss:-0.1777\n",
            "Epoch:1 Iter:300 D-loss:-3.2404 G-loss:-1.1594\n",
            "Epoch:1 Iter:400 D-loss:-2.8851 G-loss:-0.4455\n",
            "Epoch:1 Iter:500 D-loss:-2.7233 G-loss:0.1593\n",
            "Epoch:1 Iter:600 D-loss:-2.8013 G-loss:1.2378\n",
            "Epoch:1 Iter:700 D-loss:-2.9034 G-loss:0.8782\n",
            "Epoch:1 Iter:800 D-loss:-3.0627 G-loss:2.2866\n",
            "Epoch:1 Iter:900 D-loss:-3.1899 G-loss:0.0002\n",
            "Epoch:2 Iter:100 D-loss:-3.2219 G-loss:1.7079\n",
            "Epoch:2 Iter:200 D-loss:-3.2404 G-loss:0.3930\n",
            "Epoch:2 Iter:300 D-loss:-3.1950 G-loss:1.0674\n",
            "Epoch:2 Iter:400 D-loss:-3.1156 G-loss:0.5573\n",
            "Epoch:2 Iter:500 D-loss:-3.1670 G-loss:0.1934\n",
            "Epoch:2 Iter:600 D-loss:-2.7903 G-loss:0.9262\n",
            "Epoch:2 Iter:700 D-loss:-2.2707 G-loss:-0.3574\n",
            "Epoch:2 Iter:800 D-loss:-2.6062 G-loss:-0.1037\n",
            "Epoch:2 Iter:900 D-loss:-2.4273 G-loss:-0.0481\n"
          ]
        }
      ]
    },
    {
      "cell_type": "code",
      "source": [
        "noise = fixed_noise\n",
        "labels_for_show = torch.randint(0, config.num_classes, (config.batch_size,)).to(device)\n",
        "fake = generator(noise, labels_for_show).detach().cpu().numpy()\n",
        "plt.figure(figsize=(6,7))\n",
        "for i in range(16):\n",
        "    plt.subplot(4,4,i+1)\n",
        "    plt.imshow((fake[i].reshape(28,28)+1)/2, cmap='gray')\n",
        "    plt.axis('off')\n",
        "plt.show()"
      ],
      "metadata": {
        "colab": {
          "base_uri": "https://localhost:8080/",
          "height": 579
        },
        "id": "yg9tjqamSuKh",
        "outputId": "515d1f81-2e16-4505-d67b-8dc4500f5d65"
      },
      "execution_count": null,
      "outputs": [
        {
          "output_type": "display_data",
          "data": {
            "text/plain": [
              "<Figure size 600x700 with 16 Axes>"
            ],
            "image/png": "[encoded data removed]"
          },
          "metadata": {}
        }
      ]
    },
    {
      "cell_type": "markdown",
      "source": [
        "## Вывод\n",
        "\n",
        "Были протестированы три варианта GAN:\n",
        "\n",
        "1. WGAN с использованием weight clipping.\n",
        "\n",
        "Общая структура элементов более менее прослеживается, но изображения всё же размытые, нечёткие, и трудно понять, что это за объект, а также отличить их от других изображений. Наблюдался большой перепад значений потерь между итерациями, что свидетельствует о слабости weight clipping как метода регуляризации. Ограничение весов критика снижало его способность точно оценивать различия между распределениями реальных и фейковых данных.\n",
        "\n",
        "2. WGAN-GP с заменой weight clipping на градиентный штраф.\n",
        "\n",
        "Сгенерированные изображения были четче и больше напоминали реальные объекты - конкретную одежду. Потери генератора и критика не изменялись так резко, что говорит о стабильной сходимости. Градиентный штраф позволил избежать проблем, связанных с weight clipping, критик смог оценивать Wasserstein-расстояние точнее. Регуляризация через градиентный штраф улучшила обучаемость генератора.\n",
        "\n",
        "3. Условный WGAN-GP с использованием информации о метках классов для условной генерации.\n",
        "\n",
        "Изображения стали ещё более чёткими. Потери демонстрировали предсказуемую динамику, что указывает на устойчивость модели. Условная генерация позволила точно контролировать создаваемые классы. Добавление информации о метках помогло генератору лучше изучить распределение данных."
      ],
      "metadata": {
        "id": "Uo2JaEE7VeGd"
      }
    }
  ],
  "metadata": {
    "anaconda-cloud": {},
    "kernelspec": {
      "display_name": "Python 3",
      "name": "python3"
    },
    "language_info": {
      "codemirror_mode": {
        "name": "ipython",
        "version": 3
      },
      "file_extension": ".py",
      "mimetype": "text/x-python",
      "name": "python",
      "nbconvert_exporter": "python",
      "pygments_lexer": "ipython3",
      "version": "3.8.11"
    },
    "colab": {
      "provenance": [],
      "gpuType": "T4"
    },
    "accelerator": "GPU"
  },
  "nbformat": 4,
  "nbformat_minor": 0
}