{
 "cells": [
  {
   "cell_type": "markdown",
   "id": "a890128e",
   "metadata": {},
   "source": [
    "## Сверточная нейронная сеть для бинарной классификации"
   ]
  },
  {
   "cell_type": "code",
   "execution_count": 1,
   "id": "facc44b4",
   "metadata": {
    "execution": {
     "iopub.execute_input": "2024-10-05T23:24:53.742834Z",
     "iopub.status.busy": "2024-10-05T23:24:53.742512Z",
     "iopub.status.idle": "2024-10-05T23:24:59.354995Z",
     "shell.execute_reply": "2024-10-05T23:24:59.354214Z",
     "shell.execute_reply.started": "2024-10-05T23:24:53.742800Z"
    },
    "executionInfo": {
     "elapsed": 2349,
     "status": "ok",
     "timestamp": 1727962966855,
     "user": {
      "displayName": "Роман Лыжин",
      "userId": "13778731137063569498"
     },
     "user_tz": -180
    },
    "id": "Xec7OnKLnlfm",
    "papermill": {
     "duration": 5.946595,
     "end_time": "2024-10-04T17:57:51.534536",
     "exception": false,
     "start_time": "2024-10-04T17:57:45.587941",
     "status": "completed"
    },
    "tags": []
   },
   "outputs": [],
   "source": [
    "import matplotlib.pyplot as plt\n",
    "%matplotlib inline\n",
    "import numpy as np\n",
    "import cv2\n",
    "import sklearn\n",
    "import PIL\n",
    "import torch\n",
    "import torchvision\n",
    "from matplotlib import cm\n",
    "import torch\n",
    "\n",
    "import warnings\n",
    "warnings.filterwarnings('ignore')"
   ]
  },
  {
   "cell_type": "code",
   "execution_count": 2,
   "id": "c62e919b",
   "metadata": {
    "execution": {
     "iopub.execute_input": "2024-10-05T23:24:59.356909Z",
     "iopub.status.busy": "2024-10-05T23:24:59.356496Z",
     "iopub.status.idle": "2024-10-05T23:25:11.121441Z",
     "shell.execute_reply": "2024-10-05T23:25:11.120434Z",
     "shell.execute_reply.started": "2024-10-05T23:24:59.356876Z"
    },
    "executionInfo": {
     "elapsed": 783,
     "status": "ok",
     "timestamp": 1727962306384,
     "user": {
      "displayName": "Роман Лыжин",
      "userId": "13778731137063569498"
     },
     "user_tz": -180
    },
    "id": "CocmuUmzJnD1",
    "papermill": {
     "duration": 12.082787,
     "end_time": "2024-10-04T17:58:03.622038",
     "exception": false,
     "start_time": "2024-10-04T17:57:51.539251",
     "status": "completed"
    },
    "tags": []
   },
   "outputs": [],
   "source": [
    "import torch\n",
    "import torch.nn as nn\n",
    "import torch.optim as optim\n",
    "import torchvision\n",
    "import torchvision.transforms as transforms\n",
    "from torchvision.datasets import ImageFolder\n",
    "from torch.utils.data import DataLoader, random_split\n",
    "import os\n",
    "from tqdm import tqdm\n",
    "from torch.utils.tensorboard import SummaryWriter\n",
    "import torch.optim.lr_scheduler as lr_scheduler"
   ]
  },
  {
   "cell_type": "markdown",
   "id": "02ab57d6",
   "metadata": {},
   "source": [
    "### Подгрузка данных"
   ]
  },
  {
   "cell_type": "code",
   "execution_count": 3,
   "id": "1d7092cc",
   "metadata": {
    "execution": {
     "iopub.execute_input": "2024-10-05T23:25:11.123770Z",
     "iopub.status.busy": "2024-10-05T23:25:11.122919Z",
     "iopub.status.idle": "2024-10-05T23:30:41.891153Z",
     "shell.execute_reply": "2024-10-05T23:30:41.890244Z",
     "shell.execute_reply.started": "2024-10-05T23:25:11.123696Z"
    },
    "executionInfo": {
     "elapsed": 1674,
     "status": "ok",
     "timestamp": 1727961401812,
     "user": {
      "displayName": "Роман Лыжин",
      "userId": "13778731137063569498"
     },
     "user_tz": -180
    },
    "id": "hzLtL6bpQwJ0",
    "papermill": {
     "duration": 361.607576,
     "end_time": "2024-10-04T18:04:05.234291",
     "exception": false,
     "start_time": "2024-10-04T17:58:03.626715",
     "status": "completed"
    },
    "tags": []
   },
   "outputs": [],
   "source": [
    "data_dir = '/kaggle/input/dl-hw3'\n",
    "\n",
    "transform = transforms.Compose([\n",
    "    transforms.Resize((128, 128)),\n",
    "    transforms.RandomHorizontalFlip(),\n",
    "    transforms.RandomRotation(15),\n",
    "    transforms.ColorJitter(brightness=0.2, contrast=0.2, saturation=0.2, hue=0.1),\n",
    "    transforms.ToTensor(),\n",
    "    transforms.Normalize(mean=[0.5, 0.5, 0.5], std=[0.5, 0.5, 0.5])\n",
    "])\n",
    "\n",
    "full_data = ImageFolder(data_dir, transform=transform)\n",
    "\n",
    "train_size = int(0.8 * len(full_data))\n",
    "val_size = int(0.1 * len(full_data))\n",
    "test_size = len(full_data) - train_size - val_size\n",
    "\n",
    "train_data, val_data, test_data = random_split(full_data, [train_size, val_size, test_size])\n",
    "\n",
    "train_loader = DataLoader(train_data, batch_size=32, shuffle=True, num_workers=4)\n",
    "val_loader = DataLoader(val_data, batch_size=32, shuffle=False, num_workers=4)\n",
    "test_loader = DataLoader(test_data, batch_size=32, shuffle=False, num_workers=4)"
   ]
  },
  {
   "cell_type": "code",
   "execution_count": 4,
   "id": "704cfe28",
   "metadata": {
    "execution": {
     "iopub.execute_input": "2024-10-05T23:30:41.893982Z",
     "iopub.status.busy": "2024-10-05T23:30:41.893495Z",
     "iopub.status.idle": "2024-10-05T23:30:41.907395Z",
     "shell.execute_reply": "2024-10-05T23:30:41.906431Z",
     "shell.execute_reply.started": "2024-10-05T23:30:41.893937Z"
    },
    "executionInfo": {
     "elapsed": 385,
     "status": "ok",
     "timestamp": 1727963385440,
     "user": {
      "displayName": "Роман Лыжин",
      "userId": "13778731137063569498"
     },
     "user_tz": -180
    },
    "id": "lJlcCZzxVx9w",
    "papermill": {
     "duration": 0.023225,
     "end_time": "2024-10-04T18:04:05.262363",
     "exception": false,
     "start_time": "2024-10-04T18:04:05.239138",
     "status": "completed"
    },
    "tags": []
   },
   "outputs": [],
   "source": [
    "class CNN(nn.Module):\n",
    "    def __init__(self):\n",
    "        super(CNN, self).__init__()\n",
    "\n",
    "        self.model = nn.Sequential(            \n",
    "            nn.Conv2d(3, 32, kernel_size=5, padding=1), \n",
    "            nn.BatchNorm2d(32),\n",
    "            nn.ReLU(),\n",
    "            nn.MaxPool2d(kernel_size=2, stride=2),\n",
    "\n",
    "            nn.Conv2d(32, 64, kernel_size=3, padding=1),\n",
    "            nn.BatchNorm2d(64),\n",
    "            nn.ReLU(),\n",
    "            nn.MaxPool2d(kernel_size=2, stride=2),\n",
    "\n",
    "            nn.Conv2d(64, 128, kernel_size=3, padding=1),\n",
    "            nn.BatchNorm2d(128),\n",
    "            nn.ReLU(),\n",
    "            nn.MaxPool2d(kernel_size=2, stride=2),\n",
    "            \n",
    "            nn.Conv2d(128, 256, kernel_size=3, padding=1),\n",
    "            nn.BatchNorm2d(256),\n",
    "            nn.ReLU(),\n",
    "            nn.MaxPool2d(kernel_size=2, stride=2),\n",
    "        )\n",
    "        self.fc = nn.Sequential(\n",
    "            nn.Linear(256 * 7 * 7, 512),\n",
    "            nn.BatchNorm1d(512),\n",
    "            nn.ReLU(),\n",
    "            nn.Dropout(0.3),\n",
    "            nn.Linear(512, 1),\n",
    "        )\n",
    "\n",
    "    def forward(self, x):\n",
    "        x = self.model(x)\n",
    "        x = x.view(x.size(0), -1)\n",
    "        x = self.fc(x)\n",
    "        return x\n"
   ]
  },
  {
   "cell_type": "code",
   "execution_count": 5,
   "id": "1ef2a3f8",
   "metadata": {
    "execution": {
     "iopub.execute_input": "2024-10-05T23:30:41.908917Z",
     "iopub.status.busy": "2024-10-05T23:30:41.908499Z",
     "iopub.status.idle": "2024-10-05T23:30:42.264849Z",
     "shell.execute_reply": "2024-10-05T23:30:42.264061Z",
     "shell.execute_reply.started": "2024-10-05T23:30:41.908876Z"
    },
    "executionInfo": {
     "elapsed": 3,
     "status": "ok",
     "timestamp": 1727963385952,
     "user": {
      "displayName": "Роман Лыжин",
      "userId": "13778731137063569498"
     },
     "user_tz": -180
    },
    "id": "v4Va91Yrg4iA",
    "papermill": {
     "duration": 0.397932,
     "end_time": "2024-10-04T18:04:05.664507",
     "exception": false,
     "start_time": "2024-10-04T18:04:05.266575",
     "status": "completed"
    },
    "tags": []
   },
   "outputs": [],
   "source": [
    "model = CNN()\n",
    "\n",
    "device = torch.device('cuda' if torch.cuda.is_available() else 'cpu')\n",
    "model.to(device)\n",
    "\n",
    "criterion = nn.BCEWithLogitsLoss()\n",
    "optimizer = optim.Adam(model.parameters(), lr=0.001)\n",
    "scheduler = lr_scheduler.ReduceLROnPlateau(optimizer, mode='min', factor=0.5, patience=3, verbose=True)"
   ]
  },
  {
   "cell_type": "code",
   "execution_count": 6,
   "id": "d7042550",
   "metadata": {
    "execution": {
     "iopub.execute_input": "2024-10-04T18:04:05.674785Z",
     "iopub.status.busy": "2024-10-04T18:04:05.674434Z",
     "iopub.status.idle": "2024-10-04T18:04:05.680347Z",
     "shell.execute_reply": "2024-10-04T18:04:05.679674Z"
    },
    "executionInfo": {
     "elapsed": 3,
     "status": "ok",
     "timestamp": 1727963386288,
     "user": {
      "displayName": "Роман Лыжин",
      "userId": "13778731137063569498"
     },
     "user_tz": -180
    },
    "id": "yzHPEPn_j5cR",
    "papermill": {
     "duration": 0.013274,
     "end_time": "2024-10-04T18:04:05.682229",
     "exception": false,
     "start_time": "2024-10-04T18:04:05.668955",
     "status": "completed"
    },
    "tags": []
   },
   "outputs": [],
   "source": [
    "# Для логирования в Tensorboard\n",
    "writer = SummaryWriter('logs')"
   ]
  },
  {
   "cell_type": "code",
   "execution_count": 7,
   "id": "be59dee1",
   "metadata": {
    "execution": {
     "iopub.execute_input": "2024-10-04T18:04:05.691677Z",
     "iopub.status.busy": "2024-10-04T18:04:05.691358Z",
     "iopub.status.idle": "2024-10-04T18:04:05.705754Z",
     "shell.execute_reply": "2024-10-04T18:04:05.704918Z"
    },
    "executionInfo": {
     "elapsed": 2,
     "status": "ok",
     "timestamp": 1727963386624,
     "user": {
      "displayName": "Роман Лыжин",
      "userId": "13778731137063569498"
     },
     "user_tz": -180
    },
    "id": "if9ETO69jLw-",
    "papermill": {
     "duration": 0.021241,
     "end_time": "2024-10-04T18:04:05.707618",
     "exception": false,
     "start_time": "2024-10-04T18:04:05.686377",
     "status": "completed"
    },
    "tags": []
   },
   "outputs": [],
   "source": [
    "def save_checkpoint(state, filename):\n",
    "    \"\"\"Сохранение состояния модели\"\"\"\n",
    "    torch.save(state, filename)\n",
    "\n",
    "\n",
    "def train_model(model, train_loader, val_loader, criterion, optimizer, scheduler, num_epochs, start_epoch=0):\n",
    "    best_val_acc = 0.0\n",
    "\n",
    "    for epoch in tqdm(range(start_epoch, num_epochs)):\n",
    "        model.train()\n",
    "        running_loss = 0.0\n",
    "        correct = 0\n",
    "        total = 0\n",
    "\n",
    "        for inputs, labels in train_loader:\n",
    "            inputs, labels = inputs.to(device), labels.to(device).float().view(-1, 1)\n",
    "\n",
    "            optimizer.zero_grad()\n",
    "\n",
    "            outputs = model(inputs)\n",
    "            loss = criterion(outputs, labels)\n",
    "\n",
    "            loss.backward()\n",
    "            optimizer.step()\n",
    "\n",
    "            running_loss += loss.item()\n",
    "            predicted = (outputs > 0.5).float()\n",
    "            correct += (predicted == labels).sum().item()\n",
    "            total += labels.size(0)\n",
    "\n",
    "        train_loss = running_loss / len(train_loader)\n",
    "        train_acc = correct / total\n",
    "\n",
    "        val_loss, val_acc = evaluate_model(model, val_loader, criterion)\n",
    "\n",
    "        print(f'Epoch [{epoch+1}/{num_epochs}], Loss: {train_loss:.4f}, Accuracy: {train_acc:.4f}, '\n",
    "              f'Val Loss: {val_loss:.4f}, Val Accuracy: {val_acc:.4f}')\n",
    "\n",
    "        writer.add_scalar('Loss/train', train_loss, epoch)\n",
    "        writer.add_scalar('Accuracy/train', train_acc, epoch)\n",
    "        writer.add_scalar('Loss/val', val_loss, epoch)\n",
    "        writer.add_scalar('Accuracy/val', val_acc, epoch)\n",
    "\n",
    "        scheduler.step(val_loss)\n",
    "\n",
    "        if val_acc > best_val_acc:\n",
    "            print(f'Validation accuracy improved from {best_val_acc:.4f} to {val_acc:.4f}. Saving model...')\n",
    "            best_val_acc = val_acc\n",
    "\n",
    "            checkpoint = {\n",
    "                'epoch': epoch + 1,\n",
    "                'model_state_dict': model.state_dict(),\n",
    "                'optimizer_state_dict': optimizer.state_dict(),\n",
    "                'loss': val_loss,\n",
    "                'accuracy': val_acc\n",
    "            }\n",
    "            save_checkpoint(checkpoint, 'cnn_best_checkpoint.pth')\n",
    "\n",
    "\n",
    "def evaluate_model(model, loader, criterion):\n",
    "    model.eval()\n",
    "    running_loss = 0.0\n",
    "    correct = 0\n",
    "    total = 0\n",
    "\n",
    "    with torch.no_grad():\n",
    "        for inputs, labels in loader:\n",
    "            inputs, labels = inputs.to(device), labels.to(device).float().view(-1, 1)\n",
    "\n",
    "            outputs = model(inputs)\n",
    "            loss = criterion(outputs, labels)\n",
    "\n",
    "            running_loss += loss.item()\n",
    "            predicted = (outputs > 0.5).float()\n",
    "            correct += (predicted == labels).sum().item()\n",
    "            total += labels.size(0)\n",
    "\n",
    "    loss = running_loss / len(loader)\n",
    "    accuracy = correct / total\n",
    "    return loss, accuracy\n"
   ]
  },
  {
   "cell_type": "code",
   "execution_count": 8,
   "id": "49c6ddec",
   "metadata": {
    "execution": {
     "iopub.execute_input": "2024-10-04T18:04:05.717922Z",
     "iopub.status.busy": "2024-10-04T18:04:05.717625Z",
     "iopub.status.idle": "2024-10-04T22:02:23.158485Z",
     "shell.execute_reply": "2024-10-04T22:02:23.157440Z"
    },
    "id": "HBsNQbT5oVl4",
    "outputId": "8ec96bdd-7d80-46ff-8a3d-9357e4c25bff",
    "papermill": {
     "duration": 14297.456169,
     "end_time": "2024-10-04T22:02:23.167905",
     "exception": false,
     "start_time": "2024-10-04T18:04:05.711736",
     "status": "completed"
    },
    "tags": []
   },
   "outputs": [
    {
     "name": "stderr",
     "output_type": "stream",
     "text": [
      "  5%|▌         | 1/20 [16:51<5:20:19, 1011.54s/it]"
     ]
    },
    {
     "name": "stdout",
     "output_type": "stream",
     "text": [
      "Epoch [1/20], Loss: 0.3503, Accuracy: 0.8439, Val Loss: 0.2829, Val Accuracy: 0.8837\n",
      "\n",
      "Validation accuracy improved from 0.0000 to 0.8837. Saving model...\n"
     ]
    },
    {
     "name": "stderr",
     "output_type": "stream",
     "text": [
      " 10%|█         | 2/20 [28:31<4:08:27, 828.21s/it] "
     ]
    },
    {
     "name": "stdout",
     "output_type": "stream",
     "text": [
      "Epoch [2/20], Loss: 0.2796, Accuracy: 0.8818, Val Loss: 0.2500, Val Accuracy: 0.8925\n",
      "\n",
      "Validation accuracy improved from 0.8837 to 0.8925. Saving model...\n"
     ]
    },
    {
     "name": "stderr",
     "output_type": "stream",
     "text": [
      " 15%|█▌        | 3/20 [40:05<3:37:20, 767.09s/it]"
     ]
    },
    {
     "name": "stdout",
     "output_type": "stream",
     "text": [
      "Epoch [3/20], Loss: 0.2504, Accuracy: 0.8963, Val Loss: 0.2239, Val Accuracy: 0.9067\n",
      "\n",
      "Validation accuracy improved from 0.8925 to 0.9067. Saving model...\n"
     ]
    },
    {
     "name": "stderr",
     "output_type": "stream",
     "text": [
      " 20%|██        | 4/20 [51:41<3:17:03, 739.00s/it]"
     ]
    },
    {
     "name": "stdout",
     "output_type": "stream",
     "text": [
      "Epoch [4/20], Loss: 0.2337, Accuracy: 0.9045, Val Loss: 0.2101, Val Accuracy: 0.9131\n",
      "\n",
      "Validation accuracy improved from 0.9067 to 0.9131. Saving model...\n"
     ]
    },
    {
     "name": "stderr",
     "output_type": "stream",
     "text": [
      " 25%|██▌       | 5/20 [1:03:21<3:01:13, 724.88s/it]"
     ]
    },
    {
     "name": "stdout",
     "output_type": "stream",
     "text": [
      "Epoch [5/20], Loss: 0.2202, Accuracy: 0.9105, Val Loss: 0.1974, Val Accuracy: 0.9210\n",
      "\n",
      "Validation accuracy improved from 0.9131 to 0.9210. Saving model...\n"
     ]
    },
    {
     "name": "stderr",
     "output_type": "stream",
     "text": [
      " 30%|███       | 6/20 [1:14:56<2:46:44, 714.59s/it]"
     ]
    },
    {
     "name": "stdout",
     "output_type": "stream",
     "text": [
      "Epoch [6/20], Loss: 0.2110, Accuracy: 0.9147, Val Loss: 0.2027, Val Accuracy: 0.9140\n",
      "\n",
      "Epoch [7/20], Loss: 0.2033, Accuracy: 0.9181, Val Loss: 0.1922, Val Accuracy: 0.9245\n",
      "\n",
      "Validation accuracy improved from 0.9210 to 0.9245. Saving model...\n"
     ]
    },
    {
     "name": "stderr",
     "output_type": "stream",
     "text": [
      " 40%|████      | 8/20 [1:38:22<2:21:46, 708.84s/it]"
     ]
    },
    {
     "name": "stdout",
     "output_type": "stream",
     "text": [
      "Epoch [8/20], Loss: 0.1950, Accuracy: 0.9215, Val Loss: 0.1920, Val Accuracy: 0.9203\n"
     ]
    },
    {
     "name": "stderr",
     "output_type": "stream",
     "text": [
      " 45%|████▌     | 9/20 [1:50:04<2:09:30, 706.45s/it]"
     ]
    },
    {
     "name": "stdout",
     "output_type": "stream",
     "text": [
      "Epoch [9/20], Loss: 0.1900, Accuracy: 0.9242, Val Loss: 0.1892, Val Accuracy: 0.9285\n",
      "\n",
      "Validation accuracy improved from 0.9245 to 0.9285. Saving model...\n",
      "\n",
      "Epoch [10/20], Loss: 0.1849, Accuracy: 0.9259, Val Loss: 0.1838, Val Accuracy: 0.9298\n",
      "\n",
      "Validation accuracy improved from 0.9285 to 0.9298. Saving model...\n"
     ]
    },
    {
     "name": "stderr",
     "output_type": "stream",
     "text": [
      " 55%|█████▌    | 11/20 [2:13:33<1:45:48, 705.39s/it]"
     ]
    },
    {
     "name": "stdout",
     "output_type": "stream",
     "text": [
      "Epoch [11/20], Loss: 0.1799, Accuracy: 0.9281, Val Loss: 0.1838, Val Accuracy: 0.9255\n",
      "\n",
      "Epoch [12/20], Loss: 0.1750, Accuracy: 0.9305, Val Loss: 0.1807, Val Accuracy: 0.9300\n",
      "\n",
      "Validation accuracy improved from 0.9298 to 0.9300. Saving model...\n"
     ]
    },
    {
     "name": "stderr",
     "output_type": "stream",
     "text": [
      " 65%|██████▌   | 13/20 [2:36:48<1:21:48, 701.22s/it]"
     ]
    },
    {
     "name": "stdout",
     "output_type": "stream",
     "text": [
      "Epoch [13/20], Loss: 0.1707, Accuracy: 0.9312, Val Loss: 0.1849, Val Accuracy: 0.9273\n"
     ]
    },
    {
     "name": "stderr",
     "output_type": "stream",
     "text": [
      " 70%|███████   | 14/20 [2:48:23<1:09:55, 699.20s/it]"
     ]
    },
    {
     "name": "stdout",
     "output_type": "stream",
     "text": [
      "Epoch [14/20], Loss: 0.1670, Accuracy: 0.9335, Val Loss: 0.1847, Val Accuracy: 0.9262\n"
     ]
    },
    {
     "name": "stderr",
     "output_type": "stream",
     "text": [
      " 75%|███████▌  | 15/20 [3:00:02<58:16, 699.31s/it]  "
     ]
    },
    {
     "name": "stdout",
     "output_type": "stream",
     "text": [
      "Epoch [15/20], Loss: 0.1640, Accuracy: 0.9350, Val Loss: 0.1821, Val Accuracy: 0.9286\n",
      "\n",
      "Epoch [16/20], Loss: 0.1596, Accuracy: 0.9364, Val Loss: 0.1885, Val Accuracy: 0.9319\n",
      "\n",
      "Validation accuracy improved from 0.9300 to 0.9319. Saving model...\n"
     ]
    },
    {
     "name": "stderr",
     "output_type": "stream",
     "text": [
      " 85%|████████▌ | 17/20 [3:23:19<34:53, 697.88s/it]"
     ]
    },
    {
     "name": "stdout",
     "output_type": "stream",
     "text": [
      "Epoch [17/20], Loss: 0.1447, Accuracy: 0.9429, Val Loss: 0.1781, Val Accuracy: 0.9341\n",
      "\n",
      "Validation accuracy improved from 0.9319 to 0.9341. Saving model...\n"
     ]
    },
    {
     "name": "stderr",
     "output_type": "stream",
     "text": [
      " 90%|█████████ | 18/20 [3:35:11<23:24, 702.17s/it]"
     ]
    },
    {
     "name": "stdout",
     "output_type": "stream",
     "text": [
      "Epoch [18/20], Loss: 0.1391, Accuracy: 0.9448, Val Loss: 0.1820, Val Accuracy: 0.9337\n"
     ]
    },
    {
     "name": "stderr",
     "output_type": "stream",
     "text": [
      " 95%|█████████▌| 19/20 [3:46:53<11:41, 701.91s/it]"
     ]
    },
    {
     "name": "stdout",
     "output_type": "stream",
     "text": [
      "Epoch [19/20], Loss: 0.1352, Accuracy: 0.9464, Val Loss: 0.1793, Val Accuracy: 0.9310\n"
     ]
    },
    {
     "name": "stderr",
     "output_type": "stream",
     "text": [
      "100%|██████████| 20/20 [3:58:17<00:00, 714.87s/it]"
     ]
    },
    {
     "name": "stdout",
     "output_type": "stream",
     "text": [
      "Epoch [20/20], Loss: 0.1335, Accuracy: 0.9469, Val Loss: 0.1771, Val Accuracy: 0.9319\n"
     ]
    },
    {
     "name": "stderr",
     "output_type": "stream",
     "text": [
      "\n"
     ]
    }
   ],
   "source": [
    "train_model(model, train_loader, val_loader, criterion, optimizer, scheduler, num_epochs=20)"
   ]
  },
  {
   "cell_type": "markdown",
   "id": "8edffdd8",
   "metadata": {},
   "source": [
    "![title](img/tensorboard_accuracy.png)"
   ]
  },
  {
   "cell_type": "markdown",
   "id": "af648697",
   "metadata": {},
   "source": [
    "![title](img/tensorboard_loss.png)"
   ]
  },
  {
   "cell_type": "markdown",
   "id": "b5141164",
   "metadata": {},
   "source": [
    "### Инференс"
   ]
  },
  {
   "cell_type": "code",
   "execution_count": 12,
   "id": "6cb56383",
   "metadata": {},
   "outputs": [
    {
     "name": "stdout",
     "output_type": "stream",
     "text": [
      "Checkpoint loaded. Epoch: 17, Loss: 0.17806168762126404, Accuracy: 0.93413231998441\n"
     ]
    },
    {
     "data": {
      "text/plain": [
       "CNN(\n",
       "  (model): Sequential(\n",
       "    (0): Conv2d(3, 32, kernel_size=(5, 5), stride=(1, 1), padding=(1, 1))\n",
       "    (1): BatchNorm2d(32, eps=1e-05, momentum=0.1, affine=True, track_running_stats=True)\n",
       "    (2): ReLU()\n",
       "    (3): MaxPool2d(kernel_size=2, stride=2, padding=0, dilation=1, ceil_mode=False)\n",
       "    (4): Conv2d(32, 64, kernel_size=(3, 3), stride=(1, 1), padding=(1, 1))\n",
       "    (5): BatchNorm2d(64, eps=1e-05, momentum=0.1, affine=True, track_running_stats=True)\n",
       "    (6): ReLU()\n",
       "    (7): MaxPool2d(kernel_size=2, stride=2, padding=0, dilation=1, ceil_mode=False)\n",
       "    (8): Conv2d(64, 128, kernel_size=(3, 3), stride=(1, 1), padding=(1, 1))\n",
       "    (9): BatchNorm2d(128, eps=1e-05, momentum=0.1, affine=True, track_running_stats=True)\n",
       "    (10): ReLU()\n",
       "    (11): MaxPool2d(kernel_size=2, stride=2, padding=0, dilation=1, ceil_mode=False)\n",
       "    (12): Conv2d(128, 256, kernel_size=(3, 3), stride=(1, 1), padding=(1, 1))\n",
       "    (13): BatchNorm2d(256, eps=1e-05, momentum=0.1, affine=True, track_running_stats=True)\n",
       "    (14): ReLU()\n",
       "    (15): MaxPool2d(kernel_size=2, stride=2, padding=0, dilation=1, ceil_mode=False)\n",
       "  )\n",
       "  (fc): Sequential(\n",
       "    (0): Linear(in_features=12544, out_features=512, bias=True)\n",
       "    (1): BatchNorm1d(512, eps=1e-05, momentum=0.1, affine=True, track_running_stats=True)\n",
       "    (2): ReLU()\n",
       "    (3): Dropout(p=0.3, inplace=False)\n",
       "    (4): Linear(in_features=512, out_features=1, bias=True)\n",
       "  )\n",
       ")"
      ]
     },
     "execution_count": 12,
     "metadata": {},
     "output_type": "execute_result"
    }
   ],
   "source": [
    "def load_checkpoint(filename):\n",
    "\n",
    "    checkpoint = torch.load(filename, map_location=torch.device(device))\n",
    "    model.load_state_dict(checkpoint['model_state_dict'])\n",
    "    optimizer.load_state_dict(checkpoint['optimizer_state_dict'])\n",
    "    epoch = checkpoint['epoch']\n",
    "    loss = checkpoint['loss']\n",
    "    accuracy = checkpoint['accuracy']\n",
    "    print(f\"Checkpoint loaded. Epoch: {epoch}, Loss: {loss}, Accuracy: {accuracy}\")\n",
    "    return epoch, loss, accuracy\n",
    "\n",
    "# Загрузка чекпоинта\n",
    "model = CNN().to(device)  # Инициализация модели\n",
    "optimizer = optim.Adam(model.parameters(), lr=0.001)  # Инициализация оптимизатора\n",
    "\n",
    "# Восстановление модели и оптимизатора из чекпоинта\n",
    "epoch, loss, accuracy = load_checkpoint('cnn_best_checkpoint.pth')\n",
    "\n",
    "# Перевод модели в режим инференса\n",
    "model.eval()\n"
   ]
  },
  {
   "cell_type": "markdown",
   "id": "cd7cacae",
   "metadata": {},
   "source": [
    "### Подзадания"
   ]
  },
  {
   "cell_type": "code",
   "execution_count": 15,
   "id": "b9c4a84e",
   "metadata": {},
   "outputs": [
    {
     "name": "stdout",
     "output_type": "stream",
     "text": [
      "Кол-во обучаемых параметров сети: 6815489\n"
     ]
    }
   ],
   "source": [
    "params_num = sum([p.numel() for p in model.parameters() if p.requires_grad])\n",
    "print(f\"Кол-во обучаемых параметров сети: {params_num}\")"
   ]
  },
  {
   "cell_type": "markdown",
   "id": "a4d63ca0",
   "metadata": {},
   "source": [
    "Вывод: Качество модели CNN для классификации indoor/outdoor изображений по метрике accuracy увеличилось благодаря\n",
    "1) Применению batch normalization после свёрточных слоёв\n",
    "2) Использованию ядра 5x5 на первом слое\n",
    "3) Использованию scheduler для \"умного\" вычисления шага градиентного спуска на каждой итерации"
   ]
  },
  {
   "cell_type": "code",
   "execution_count": 10,
   "id": "8a71c5ba",
   "metadata": {
    "execution": {
     "iopub.execute_input": "2024-10-06T00:00:45.972676Z",
     "iopub.status.busy": "2024-10-06T00:00:45.971998Z",
     "iopub.status.idle": "2024-10-06T00:02:00.759618Z",
     "shell.execute_reply": "2024-10-06T00:02:00.758476Z",
     "shell.execute_reply.started": "2024-10-06T00:00:45.972637Z"
    }
   },
   "outputs": [],
   "source": [
    "all_labels = []\n",
    "all_preds = []\n",
    "\n",
    "with torch.no_grad():\n",
    "    for inputs, labels in test_loader:\n",
    "        inputs, labels = inputs.to(device), labels.to(device).float().view(-1, 1)\n",
    "        \n",
    "        outputs = model(inputs)\n",
    "        sigmoid_outputs = torch.sigmoid(outputs)\n",
    "        predictions = (sigmoid_outputs > 0.5).float()\n",
    "        \n",
    "        \n",
    "        all_labels.extend(labels.cpu().numpy())\n",
    "        all_preds.extend(predictions.cpu().numpy())"
   ]
  },
  {
   "cell_type": "code",
   "execution_count": 14,
   "id": "7bc4b1c4",
   "metadata": {
    "execution": {
     "iopub.execute_input": "2024-10-06T00:03:25.115980Z",
     "iopub.status.busy": "2024-10-06T00:03:25.115564Z",
     "iopub.status.idle": "2024-10-06T00:03:25.364108Z",
     "shell.execute_reply": "2024-10-06T00:03:25.363131Z",
     "shell.execute_reply.started": "2024-10-06T00:03:25.115944Z"
    }
   },
   "outputs": [
    {
     "name": "stdout",
     "output_type": "stream",
     "text": [
      "f1 score: 0.5820245424467061\n"
     ]
    }
   ],
   "source": [
    "from sklearn.metrics import f1_score\n",
    "f1 = f1_score(all_labels, all_preds)\n",
    "print(f\"f1 score: {f1}\")"
   ]
  },
  {
   "cell_type": "code",
   "execution_count": 31,
   "id": "1831c61e",
   "metadata": {
    "execution": {
     "iopub.execute_input": "2024-10-06T00:11:52.520383Z",
     "iopub.status.busy": "2024-10-06T00:11:52.519627Z",
     "iopub.status.idle": "2024-10-06T00:11:52.687411Z",
     "shell.execute_reply": "2024-10-06T00:11:52.686472Z",
     "shell.execute_reply.started": "2024-10-06T00:11:52.520342Z"
    }
   },
   "outputs": [
    {
     "name": "stdout",
     "output_type": "stream",
     "text": [
      "Confusion Matrix:\n"
     ]
    },
    {
     "data": {
      "text/html": [
       "<div>\n",
       "<style scoped>\n",
       "    .dataframe tbody tr th:only-of-type {\n",
       "        vertical-align: middle;\n",
       "    }\n",
       "\n",
       "    .dataframe tbody tr th {\n",
       "        vertical-align: top;\n",
       "    }\n",
       "\n",
       "    .dataframe thead th {\n",
       "        text-align: right;\n",
       "    }\n",
       "</style>\n",
       "<table border=\"1\" class=\"dataframe\">\n",
       "  <thead>\n",
       "    <tr style=\"text-align: right;\">\n",
       "      <th></th>\n",
       "      <th>Predicted 0</th>\n",
       "      <th>Predicted 1</th>\n",
       "    </tr>\n",
       "  </thead>\n",
       "  <tbody>\n",
       "    <tr>\n",
       "      <th>Actual 0</th>\n",
       "      <td>7196</td>\n",
       "      <td>14351</td>\n",
       "    </tr>\n",
       "    <tr>\n",
       "      <th>Actual 1</th>\n",
       "      <td>5609</td>\n",
       "      <td>13897</td>\n",
       "    </tr>\n",
       "  </tbody>\n",
       "</table>\n",
       "</div>"
      ],
      "text/plain": [
       "          Predicted 0  Predicted 1\n",
       "Actual 0         7196        14351\n",
       "Actual 1         5609        13897"
      ]
     },
     "execution_count": 31,
     "metadata": {},
     "output_type": "execute_result"
    }
   ],
   "source": [
    "import pandas as pd\n",
    "from sklearn.metrics import confusion_matrix\n",
    "\n",
    "conf_matrix = confusion_matrix(all_labels, all_preds)\n",
    "df_conf_matrix = pd.DataFrame(conf_matrix, \n",
    "                               index=['Actual 0', 'Actual 1'], \n",
    "                               columns=['Predicted 0', 'Predicted 1'])\n",
    "print(\"Confusion Matrix:\")\n",
    "df_conf_matrix"
   ]
  }
 ],
 "metadata": {
  "accelerator": "GPU",
  "colab": {
   "authorship_tag": "ABX9TyOVj/cIVnCSGVkoH5qM3usz",
   "gpuType": "T4",
   "provenance": []
  },
  "kaggle": {
   "accelerator": "nvidiaTeslaT4",
   "dataSources": [
    {
     "datasetId": 5811176,
     "sourceId": 9539829,
     "sourceType": "datasetVersion"
    },
    {
     "datasetId": 5813348,
     "sourceId": 9542670,
     "sourceType": "datasetVersion"
    }
   ],
   "dockerImageVersionId": 30787,
   "isGpuEnabled": true,
   "isInternetEnabled": true,
   "language": "python",
   "sourceType": "notebook"
  },
  "kernelspec": {
   "display_name": "Python 3 (ipykernel)",
   "language": "python",
   "name": "python3"
  },
  "language_info": {
   "codemirror_mode": {
    "name": "ipython",
    "version": 3
   },
   "file_extension": ".py",
   "mimetype": "text/x-python",
   "name": "python",
   "nbconvert_exporter": "python",
   "pygments_lexer": "ipython3",
   "version": "3.11.7"
  },
  "papermill": {
   "default_parameters": {},
   "duration": 14809.451445,
   "end_time": "2024-10-04T22:04:32.253123",
   "environment_variables": {},
   "exception": null,
   "input_path": "__notebook__.ipynb",
   "output_path": "__notebook__.ipynb",
   "parameters": {},
   "start_time": "2024-10-04T17:57:42.801678",
   "version": "2.6.0"
  }
 },
 "nbformat": 4,
 "nbformat_minor": 5
}
